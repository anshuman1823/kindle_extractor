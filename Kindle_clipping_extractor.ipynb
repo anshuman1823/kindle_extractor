{
  "nbformat": 4,
  "nbformat_minor": 0,
  "metadata": {
    "colab": {
      "provenance": []
    },
    "kernelspec": {
      "name": "python3",
      "display_name": "Python 3"
    }
  },
  "cells": [
    {
      "cell_type": "code",
      "metadata": {
        "id": "vnQvx-zgQwvu"
      },
      "source": [
        "import pandas as pd\n",
        "import numpy as np"
      ],
      "execution_count": null,
      "outputs": []
    },
    {
      "cell_type": "code",
      "metadata": {
        "id": "kXZq_W6AVkCT",
        "colab": {
          "base_uri": "https://localhost:8080/",
          "height": 105
        },
        "outputId": "2257e8b5-6bc8-4caa-ee22-d25dba959fe2"
      },
      "source": [
        "pip install xlsxwriter"
      ],
      "execution_count": null,
      "outputs": [
        {
          "output_type": "stream",
          "text": [
            "Collecting xlsxwriter\n",
            "\u001b[?25l  Downloading https://files.pythonhosted.org/packages/2b/98/17875723b6814fc4d0fc03f0997ee00de2dbd78cf195e2ec3f2c9c789d40/XlsxWriter-1.3.3-py2.py3-none-any.whl (144kB)\n",
            "\u001b[K     |████████████████████████████████| 153kB 2.7MB/s \n",
            "\u001b[?25hInstalling collected packages: xlsxwriter\n",
            "Successfully installed xlsxwriter-1.3.3\n"
          ],
          "name": "stdout"
        }
      ]
    },
    {
      "cell_type": "code",
      "metadata": {
        "id": "QerrSogPNXTg"
      },
      "source": [
        "#Creating a function to read the clipping file and return it as a string\n",
        "def file_read(file_path, encoding):\n",
        "  \"\"\"\n",
        "  Uses the file path to read the Kindle text clipping file and return it as a\n",
        "  string.\n",
        "  \"\"\"\n",
        "  with open(file_path, mode = 'r', encoding = encoding) as file:\n",
        "    text = file.read()\n",
        "    text = text.replace(\"\\ufeff\", \"\")\n",
        "  return text"
      ],
      "execution_count": null,
      "outputs": []
    },
    {
      "cell_type": "code",
      "metadata": {
        "id": "VD9XNkr4DzvQ"
      },
      "source": [
        "# Function for removing repeated highlights made in error\n",
        "\n",
        "def error_remover(df_test):\n",
        "  \"\"\"\n",
        "  Takes a dataframe and removes the repeated highlights...and returns the filtered dataframe.\n",
        "  The index of the returned dataframe is changed.\n",
        "\n",
        "  df_test because its testing was done on a dataframe named df_test and it seemed unnecessry to\n",
        "  change the name of the dataframe.\n",
        "  \"\"\"\n",
        "  # Downward Clearance\n",
        "  df_test[\"Repeated\"] = False\n",
        "  for i in range(len(df_test) - 1):\n",
        "    highlight_1 = df_test.Highlight[i]\n",
        "    highlight_2 = df_test.Highlight[i+1]\n",
        "    if (highlight_1 in highlight_2):\n",
        "      df_test.Repeated[i] = True\n",
        "    else:\n",
        "      continue\n",
        "\n",
        "  df_test.drop(index = df_test[df_test.Repeated == True].index.values, inplace = True)\n",
        "  df_test.reset_index(drop = True, inplace = True)\n",
        "\n",
        "  # Upward Clearance\n",
        "  for i in range(1, len(df_test)):\n",
        "    highlight_1 = df_test.Highlight[i]\n",
        "    highlight_2 = df_test.Highlight[i - 1]\n",
        "    if (highlight_1 in highlight_2):\n",
        "      df_test.Repeated[i] = True\n",
        "    else:\n",
        "      continue\n",
        "\n",
        "  df_test.drop(index = df_test[df_test.Repeated == True].index.values, inplace = True)\n",
        "  df_test.reset_index(drop = True, inplace = True)\n",
        "\n",
        "  df_test.drop([\"Repeated\"], axis = 1, inplace = True)\n",
        "  return df_test"
      ],
      "execution_count": null,
      "outputs": []
    },
    {
      "cell_type": "code",
      "metadata": {
        "id": "mCulvZP0grTi"
      },
      "source": [
        "# Creating a function to extract the highlights from Kindle Clippings and export the highlights as a csv file\n",
        "def clipping_extractor(file_path, encoding):\n",
        "  \"\"\"\n",
        "  Takes the file path to the Kindle Clippings file and exports a .xlsx file with all the highlights in My Drive...\n",
        "  Use encoding 'UTF-8'\n",
        "  \"\"\"\n",
        "  # Using the file_read function to read the My Clippings file and store it as a string in clipping\n",
        "  clipping = file_read(file_path, encoding)\n",
        "\n",
        "  # Splitting the clipping string wrt \"==========\" and storing all the entries in a dataframe\n",
        "  clipping_entries = clipping.split(\"==========\")\n",
        "  df_clips = pd.DataFrame(data = {\"Entries\": clipping_entries})\n",
        "  df_clips.head(5)\n",
        "\n",
        "  #Making the first entry consistent with other entries\n",
        "  df_clips.Entries[0] = \"\\n\" + df_clips.Entries[0]\n",
        "\n",
        "  # Removing the last entry which is empty\n",
        "  df_clips.drop(axis = 0, index = len(df_clips) - 1, inplace = True)\n",
        "  df_clips.tail()\n",
        "\n",
        "  # Extracting info from the entries column\n",
        "  # Splitting the Entries column w.r.t \"\\n\" and removing \"\"\n",
        "  df_clips[\"Entries_split_list\"] = df_clips.Entries.str.split(\"\\n\").apply(lambda x: [i for i in x if i != \"\"])\n",
        "\n",
        "  # Creating new columns\n",
        "  df_clips[\"Book_info\"] = df_clips.Entries_split_list.str[0]\n",
        "  df_clips[\"Highlight_info\"] = df_clips.Entries_split_list.str[1]\n",
        "  df_clips[\"Highlight\"] = df_clips.Entries_split_list.str[2]\n",
        "\n",
        "  # Extracting highlight location, date and time\n",
        "  df_clips[\"Highlight_location\"] = df_clips.Highlight_info.str.split(\"|\").str[0].str[20:]\n",
        "  df_clips[\"Highlight_day_time\"] = df_clips.Highlight_info.str.split(\"|\").str[-1].str[10:]\n",
        "  df_clips[\"Highlight_date\"] = df_clips.Highlight_day_time.str[:-11]\n",
        "  df_clips[\"Highlight_time\"] = df_clips.Highlight_day_time.str[-11:]\n",
        "\n",
        "  # Removing NaN Highlights and resetting indexes\n",
        "  df_clips.dropna(subset = [\"Highlight\"] , inplace = True)\n",
        "  df_clips.reset_index(inplace = True, drop = True)\n",
        "\n",
        "  # Removing unnecessary columns\n",
        "  df_clips.drop(['Entries', 'Entries_split_list','Highlight_info', 'Highlight_day_time'], axis = 1, inplace = True)\n",
        "\n",
        "  # Rearranging the columns\n",
        "  df_clips = df_clips[['Book_info', 'Highlight_date', 'Highlight_time', 'Highlight_location', 'Highlight']]\n",
        "\n",
        "  # Creating a column for calculating highlight word count\n",
        "  df_clips[\"Highlight_word_count\"] = df_clips.Highlight.str.split(\" \").apply(lambda x: len(x))\n",
        "\n",
        "  # Removing highlights with words less than 4\n",
        "  df_clips.drop(index = df_clips[df_clips.Highlight_word_count < 4].index, inplace = True)\n",
        "  df_clips.reset_index(inplace = True, drop = True)\n",
        "\n",
        "  # Removing Repeated highlights using the error_remover function\n",
        "  df_clips = error_remover(df_clips)\n",
        "\n",
        "  # Parsing time of highlight into a separate column\n",
        "  df_clips[\"Highlight_time\"] = df_clips.Highlight_time.apply(lambda x: x[1:] if (x[0] == \" \") else x)\n",
        "  df_clips[\"Highlight_date_and_time\"] = df_clips.Highlight_date + \" \" +  df_clips.Highlight_time\n",
        "  df_clips[\"Parsed_date_and_time\"] = pd.to_datetime(df_clips.Highlight_date_and_time)\n",
        "  df_clips.drop([\"Highlight_date\", \"Highlight_time\"], axis = 1, inplace = True)\n",
        "\n",
        "  # Sorting the entries according to Book and then time\n",
        "  df_clips.sort_values(by = [\"Book_info\", \"Parsed_date_and_time\"], inplace = True)\n",
        "  df_clips.reset_index(drop = True, inplace = True)\n",
        "\n",
        "  # Removing unnecessary columns\n",
        "  df_clips.drop(['Highlight_date_and_time', 'Highlight_word_count'], axis = 1, inplace = True)\n",
        "\n",
        "  # Rearranging the columns\n",
        "  df_clips = df_clips[['Book_info', 'Parsed_date_and_time', 'Highlight_location', 'Highlight']]\n",
        "\n",
        "  # Printing list of Books present in the clippings and their highlights count\n",
        "  books = list(df_clips.Book_info.unique())\n",
        "  print(\"\\nBooks included in the Clippings File:\\n\")\n",
        "  for i in books:\n",
        "    highlight_count = len(df_clips[df_clips.Book_info == i])\n",
        "    print(f\"{i}: {highlight_count} Highlights\")\n",
        "  print(\"\\n\")\n",
        "  print(f\"Total Highlights: {len(df_clips)}\")\n",
        "\n",
        "  # Renaming the columns appropriately\n",
        "  df_clips.rename(mapper = {'Book_info': \"Book (Author)\", 'Parsed_date_and_time': \"Time of Highlight\", 'Highlight_location': \"Highlight Location\", 'Highlight': \"Highlight\"}, inplace = True, axis = 1)\n",
        "\n",
        "  # Exporting the dataframe as an excel file\n",
        "  df_clips.to_excel(\"/content/drive/My Drive/Google_Colab/Kindle_clipping/df_clips.xlsx\", index = False, engine='xlsxwriter')\n",
        "\n",
        "  print(\"\\nOperation Successful...\\n Path to the output excel file is: '/content/drive/My Drive/Google_Colab/Kindle_clipping/df_clips.xlsx' \")\n",
        "  return df_clips"
      ],
      "execution_count": null,
      "outputs": []
    },
    {
      "cell_type": "code",
      "metadata": {
        "id": "n-BLv4mrg7XN",
        "colab": {
          "base_uri": "https://localhost:8080/",
          "height": 996
        },
        "outputId": "65f9f3fd-879c-4763-e7bf-92247aaa8b03"
      },
      "source": [
        "df_clips = clipping_extractor(\"/content/drive/My Drive/Google_Colab/Kindle_clipping/Input/My Clippings.txt\", encoding= 'UTF-8')"
      ],
      "execution_count": null,
      "outputs": [
        {
          "output_type": "stream",
          "text": [
            "/usr/local/lib/python3.6/dist-packages/ipykernel_launcher.py:17: SettingWithCopyWarning: \n",
            "A value is trying to be set on a copy of a slice from a DataFrame\n",
            "\n",
            "See the caveats in the documentation: https://pandas.pydata.org/pandas-docs/stable/user_guide/indexing.html#returning-a-view-versus-a-copy\n",
            "/usr/local/lib/python3.6/dist-packages/ipykernel_launcher.py:29: SettingWithCopyWarning: \n",
            "A value is trying to be set on a copy of a slice from a DataFrame\n",
            "\n",
            "See the caveats in the documentation: https://pandas.pydata.org/pandas-docs/stable/user_guide/indexing.html#returning-a-view-versus-a-copy\n"
          ],
          "name": "stderr"
        },
        {
          "output_type": "stream",
          "text": [
            "\n",
            "Books included in the Clippings File:\n",
            "\n",
            "A Brief History of Time (Stephen Hawking;Grover Gardner): 5 Highlights\n",
            "And Then There Were None (Agatha Christie): 9 Highlights\n",
            "Astrophysics for People in a Hurry (Neil DeGrasse Tyson): 41 Highlights\n",
            "Atomic Habits: Tiny Changes, Remarkable Results (James Clear): 19 Highlights\n",
            "Brief Answers to the Big Questions (Stephen Hawking): 3 Highlights\n",
            "Crude Volatility (Robert McNally): 355 Highlights\n",
            "Deep Work (Cal Newport): 14 Highlights\n",
            "End of Watch (The Bill Hodges Trilogy Book 3) (Stephen King): 12 Highlights\n",
            "Finders Keepers (Stephen King): 1 Highlights\n",
            "Golden Son (The Red Rising Trilogy, Book 2) (Brown, Pierce): 8 Highlights\n",
            "Hands-On Machine Learning with Scikit-Learn, Keras, and TensorFlow (Aurélien Géron): 7 Highlights\n",
            "Harry Potter 01 &The Philosopher's Stone (Illustrated) (J.K. Rowling): 2 Highlights\n",
            "How To Win Friends And Influence People (Carnegie, Dale): 28 Highlights\n",
            "Kindle User's Guide (Amazon): 1 Highlights\n",
            "Little Fires Everywhere (Celeste Ng): 3 Highlights\n",
            "Morning Star: Book III of the Red Rising Trilogy (Brown, Pierce): 26 Highlights\n",
            "My Clippings  : 1 Highlights\n",
            "Nontechnical Guide to Petroleum Geology, Exploration, Drilling, and Production (3rd Edition) - Hyne, Norman J.(Author)  : 8 Highlights\n",
            "Oil: A Beginner's Guide (Beginner's Guides) (Vaclav Smil): 15 Highlights\n",
            "Outliers: The Story of Success (Malcolm Gladwell): 192 Highlights\n",
            "Recursion (Blake Crouch): 4 Highlights\n",
            "Red Rising (Pierce Brown): 11 Highlights\n",
            "Report - Lifoka  : 1 Highlights\n",
            "Silent Child (Sarah A Denzil): 1 Highlights\n",
            "Stuff Matters : Exploring the Marvelous Materials That Shape Our Man-made Worl) (Miodownik, Mark): 11 Highlights\n",
            "The 7 HABITS of Highly Effective People: Restoring the Character Ethic (Covey, Stephen R.): 3 Highlights\n",
            "The Big Picture (Sean Carroll): 26 Highlights\n",
            "The Feynman Lectures on Physics, Vol. I: The New Millennium Edition: Mainly Mechanics, Radiation, and Heat: Volume 1 (Richard P. Feynman;Robert B. Leighton;Matthew Sands): 1 Highlights\n",
            "The Girl on the Train (Paula Hawkins): 12 Highlights\n",
            "The Good Daughter (Karin Slaughter): 5 Highlights\n",
            "The Grand Design (Stephen Hawking): 1 Highlights\n",
            "The Prize (Yergin, Daniel): 13 Highlights\n",
            "The Silent Patient (Alex Michaelides): 8 Highlights\n",
            "Thinking, Fast and Slow (Daniel Kahneman): 103 Highlights\n",
            "Thinking, Fast and Slow (Kahneman, Daniel): 1 Highlights\n",
            "You Don't Know Me (Imran Mahmood): 4 Highlights\n",
            "the_tales_of_beedle_the_bard_k2opt  : 3 Highlights\n",
            "\n",
            "\n",
            "Total Highlights: 958\n",
            "\n",
            "Operation Successful...\n",
            " Path to the output excel file is: '/content/drive/My Drive/Google_Colab/Kindle_clipping/df_clips.xlsx' \n"
          ],
          "name": "stdout"
        }
      ]
    },
    {
      "cell_type": "code",
      "metadata": {
        "id": "G8BaTCDbJa6b",
        "colab": {
          "base_uri": "https://localhost:8080/",
          "height": 265
        },
        "outputId": "aa8e5285-ddae-4d66-b6aa-14765b3aa767"
      },
      "source": [
        "print(df_clips)"
      ],
      "execution_count": null,
      "outputs": [
        {
          "output_type": "stream",
          "text": [
            "                                         Book (Author)  ...                                          Highlight\n",
            "0    A Brief History of Time (Stephen Hawking;Grove...  ...  Newton postulated a law of universal gravitati...\n",
            "1    A Brief History of Time (Stephen Hawking;Grove...  ...  the concept of time has no meaning before the ...\n",
            "2    A Brief History of Time (Stephen Hawking;Grove...  ...  physical reasons why there had to be a beginni...\n",
            "3    A Brief History of Time (Stephen Hawking;Grove...  ...  a similar star at half the distance. This law ...\n",
            "4    A Brief History of Time (Stephen Hawking;Grove...  ...  Because of the equivalence of energy and mass,...\n",
            "..                                                 ...  ...                                                ...\n",
            "953                  You Don't Know Me (Imran Mahmood)  ...  hand while other people had theirs hands in th...\n",
            "954                  You Don't Know Me (Imran Mahmood)  ...  tube. Camden on a Saturday night is pretty muc...\n",
            "955               the_tales_of_beedle_the_bard_k2opt    ...  cauldron, resolving to use it henceforth as a ...\n",
            "956               the_tales_of_beedle_the_bard_k2opt    ...                      intrigued by his haughty mien\n",
            "957               the_tales_of_beedle_the_bard_k2opt    ...  of injury, whether physical, mental or emotion...\n",
            "\n",
            "[958 rows x 4 columns]\n"
          ],
          "name": "stdout"
        }
      ]
    }
  ]
}